{
 "cells": [
  {
   "cell_type": "markdown",
   "id": "6082f7c7",
   "metadata": {},
   "source": [
    "## Creating spark session"
   ]
  },
  {
   "cell_type": "code",
   "execution_count": 1,
   "id": "c543aa9c",
   "metadata": {},
   "outputs": [],
   "source": [
    "from pyspark.sql import SparkSession"
   ]
  },
  {
   "cell_type": "code",
   "execution_count": 2,
   "id": "bf37e97a",
   "metadata": {},
   "outputs": [],
   "source": [
    "import warnings\n",
    "warnings.filterwarnings('ignore')"
   ]
  },
  {
   "cell_type": "code",
   "execution_count": 3,
   "id": "c1f9a86e",
   "metadata": {},
   "outputs": [
    {
     "name": "stderr",
     "output_type": "stream",
     "text": [
      "23/10/03 15:52:33 WARN Utils: Your hostname, me-virtual-machine resolves to a loopback address: 127.0.1.1; using 192.168.42.129 instead (on interface ens33)\n",
      "23/10/03 15:52:33 WARN Utils: Set SPARK_LOCAL_IP if you need to bind to another address\n",
      "Setting default log level to \"WARN\".\n",
      "To adjust logging level use sc.setLogLevel(newLevel). For SparkR, use setLogLevel(newLevel).\n",
      "23/10/03 15:52:36 WARN NativeCodeLoader: Unable to load native-hadoop library for your platform... using builtin-java classes where applicable\n"
     ]
    }
   ],
   "source": [
    "spark = SparkSession.builder \\\n",
    "            .master(\"local[8]\") \\\n",
    "            .appName(\"Higgs Twitter ETL\") \\\n",
    "            .config(\"spark.some.config.option\", \"some-value\")\\\n",
    "            .getOrCreate()"
   ]
  },
  {
   "cell_type": "markdown",
   "id": "954a46da",
   "metadata": {},
   "source": [
    "## Reading edgelist files"
   ]
  },
  {
   "cell_type": "code",
   "execution_count": 4,
   "id": "6b0037d6",
   "metadata": {},
   "outputs": [],
   "source": [
    "from pyspark.sql.types import IntegerType, StructField, StructType"
   ]
  },
  {
   "cell_type": "code",
   "execution_count": 5,
   "id": "6b7d4c90",
   "metadata": {},
   "outputs": [
    {
     "name": "stderr",
     "output_type": "stream",
     "text": [
      "                                                                                \r"
     ]
    },
    {
     "name": "stdout",
     "output_type": "stream",
     "text": [
      "14855842 2 \n",
      "\n",
      "+--------+--------+\n",
      "|follower|followed|\n",
      "+--------+--------+\n",
      "|       1|       2|\n",
      "|       1|       3|\n",
      "|       1|       4|\n",
      "|       1|       5|\n",
      "|       1|       6|\n",
      "+--------+--------+\n",
      "only showing top 5 rows\n",
      "\n"
     ]
    }
   ],
   "source": [
    "schema = StructType([StructField('follower', IntegerType(), True), StructField('followed', IntegerType(), True)])\n",
    "socialDF = spark.read.csv('data/higgs-social_network.edgelist.gz', sep=\" \", schema=schema).dropna()\n",
    "print(socialDF.count(), len(socialDF.columns), '\\n')\n",
    "socialDF.show(5)"
   ]
  },
  {
   "cell_type": "markdown",
   "id": "f2125d7e",
   "metadata": {},
   "source": [
    "## Dataframes API cached vs uncached"
   ]
  },
  {
   "cell_type": "code",
   "execution_count": 12,
   "id": "c37f667b",
   "metadata": {},
   "outputs": [
    {
     "name": "stderr",
     "output_type": "stream",
     "text": [
      "[Stage 11:>                                                         (0 + 1) / 1]\r"
     ]
    },
    {
     "name": "stdout",
     "output_type": "stream",
     "text": [
      "+----+-------------+\n",
      "|user|num_followers|\n",
      "+----+-------------+\n",
      "| 148|          738|\n",
      "| 463|        10953|\n",
      "| 471|         1584|\n",
      "| 496|           49|\n",
      "| 833|            8|\n",
      "+----+-------------+\n",
      "only showing top 5 rows\n",
      "\n",
      "CPU times: user 16.6 ms, sys: 27.4 ms, total: 44.1 ms\n",
      "Wall time: 1min 18s\n"
     ]
    },
    {
     "name": "stderr",
     "output_type": "stream",
     "text": [
      "\r",
      "                                                                                \r"
     ]
    }
   ],
   "source": [
    "%%time\n",
    "followerCountDF = socialDF.groupBy('followed')\\\n",
    ".count()\\\n",
    ".withColumnRenamed('followed', 'user') \\\n",
    ".withColumnRenamed('count', 'num_followers')\\\n",
    ".show(5)"
   ]
  },
  {
   "cell_type": "code",
   "execution_count": 13,
   "id": "51ca6b46",
   "metadata": {},
   "outputs": [
    {
     "name": "stderr",
     "output_type": "stream",
     "text": [
      "23/10/03 15:57:02 WARN CacheManager: Asked to cache already cached data.\n"
     ]
    },
    {
     "data": {
      "text/plain": [
       "DataFrame[follower: int, followed: int]"
      ]
     },
     "execution_count": 13,
     "metadata": {},
     "output_type": "execute_result"
    }
   ],
   "source": [
    "socialDF.cache()"
   ]
  },
  {
   "cell_type": "code",
   "execution_count": 14,
   "id": "591f3733",
   "metadata": {},
   "outputs": [
    {
     "name": "stderr",
     "output_type": "stream",
     "text": [
      "\r",
      "[Stage 14:>                                                         (0 + 1) / 1]\r"
     ]
    },
    {
     "name": "stdout",
     "output_type": "stream",
     "text": [
      "+----+-------------+\n",
      "|user|num_followers|\n",
      "+----+-------------+\n",
      "| 148|          738|\n",
      "| 463|        10953|\n",
      "| 471|         1584|\n",
      "| 496|           49|\n",
      "| 833|            8|\n",
      "+----+-------------+\n",
      "only showing top 5 rows\n",
      "\n",
      "CPU times: user 6.52 ms, sys: 5.28 ms, total: 11.8 ms\n",
      "Wall time: 4.15 s\n"
     ]
    },
    {
     "name": "stderr",
     "output_type": "stream",
     "text": [
      "\r",
      "                                                                                \r"
     ]
    }
   ],
   "source": [
    "%%time\n",
    "followerCountDF = socialDF.groupBy('followed')\\\n",
    ".count()\\\n",
    ".withColumnRenamed('followed', 'user') \\\n",
    ".withColumnRenamed('count', 'num_followers') \\\n",
    ".show(5)"
   ]
  },
  {
   "cell_type": "code",
   "execution_count": 15,
   "id": "fd4d26ee",
   "metadata": {},
   "outputs": [
    {
     "data": {
      "text/plain": [
       "DataFrame[follower: int, followed: int]"
      ]
     },
     "execution_count": 15,
     "metadata": {},
     "output_type": "execute_result"
    }
   ],
   "source": [
    "socialDF.unpersist()"
   ]
  },
  {
   "cell_type": "markdown",
   "id": "032497aa",
   "metadata": {},
   "source": [
    "## Spark SQL cached vs uncached"
   ]
  },
  {
   "cell_type": "code",
   "execution_count": 19,
   "id": "9e94b989",
   "metadata": {},
   "outputs": [
    {
     "name": "stderr",
     "output_type": "stream",
     "text": [
      "\r",
      "[Stage 26:>                                                         (0 + 1) / 1]\r"
     ]
    },
    {
     "name": "stdout",
     "output_type": "stream",
     "text": [
      "+----+-------------+\n",
      "|user|num_followers|\n",
      "+----+-------------+\n",
      "|   1|        16280|\n",
      "|   2|         4707|\n",
      "|   3|          137|\n",
      "|   4|         8643|\n",
      "|   5|         2194|\n",
      "+----+-------------+\n",
      "only showing top 5 rows\n",
      "\n",
      "CPU times: user 3.07 ms, sys: 22.3 ms, total: 25.4 ms\n",
      "Wall time: 45.3 s\n"
     ]
    },
    {
     "name": "stderr",
     "output_type": "stream",
     "text": [
      "\r",
      "                                                                                \r"
     ]
    }
   ],
   "source": [
    "%%time\n",
    "socialDF.createOrReplaceTempView('social')\n",
    "spark.sql(\n",
    "     \"\"\"\n",
    "    select \n",
    "    followed as user, \n",
    "    count(follower) as num_followers\n",
    "    from social\n",
    "    group by followed\n",
    "    order by user asc\n",
    "     \"\"\"\n",
    " ).show(5)"
   ]
  },
  {
   "cell_type": "code",
   "execution_count": 22,
   "id": "a1e2b282",
   "metadata": {},
   "outputs": [
    {
     "name": "stderr",
     "output_type": "stream",
     "text": [
      "23/10/03 16:03:55 WARN CacheManager: Asked to cache already cached data.\n",
      "[Stage 32:>                                                         (0 + 1) / 1]\r"
     ]
    },
    {
     "name": "stdout",
     "output_type": "stream",
     "text": [
      "+----+-------------+\n",
      "|user|num_followers|\n",
      "+----+-------------+\n",
      "|   1|        16280|\n",
      "|   2|         4707|\n",
      "|   3|          137|\n",
      "|   4|         8643|\n",
      "|   5|         2194|\n",
      "+----+-------------+\n",
      "only showing top 5 rows\n",
      "\n",
      "CPU times: user 3.89 ms, sys: 11.7 ms, total: 15.6 ms\n",
      "Wall time: 4.79 s\n"
     ]
    },
    {
     "name": "stderr",
     "output_type": "stream",
     "text": [
      "\r",
      "                                                                                \r"
     ]
    }
   ],
   "source": [
    "%%time\n",
    "socialDF.createOrReplaceTempView('social')\n",
    "\n",
    "socialDF.cache()\n",
    "\n",
    "spark.sql(\n",
    "     \"\"\"\n",
    "    select \n",
    "    followed as user, \n",
    "    count(follower) as num_followers\n",
    "    from social\n",
    "    group by followed\n",
    "    order by user asc\n",
    "     \"\"\"\n",
    " ).show(5)"
   ]
  }
 ],
 "metadata": {
  "kernelspec": {
   "display_name": "Python 3 (ipykernel)",
   "language": "python",
   "name": "python3"
  },
  "language_info": {
   "codemirror_mode": {
    "name": "ipython",
    "version": 3
   },
   "file_extension": ".py",
   "mimetype": "text/x-python",
   "name": "python",
   "nbconvert_exporter": "python",
   "pygments_lexer": "ipython3",
   "version": "3.11.4"
  }
 },
 "nbformat": 4,
 "nbformat_minor": 5
}
